{
 "cells": [
  {
   "cell_type": "code",
   "execution_count": 1,
   "metadata": {},
   "outputs": [
    {
     "name": "stderr",
     "output_type": "stream",
     "text": [
      "[WDM] - Downloading: 100%|██████████| 6.81M/6.81M [00:00<00:00, 11.6MB/s]\n",
      "C:\\Users\\dev\\AppData\\Local\\Temp\\ipykernel_21856\\3239183526.py:4: DeprecationWarning: executable_path has been deprecated, please pass in a Service object\n",
      "  driver=webdriver.Chrome(ChromeDriverManager().install())\n"
     ]
    }
   ],
   "source": [
    "from webdriver_manager.chrome import ChromeDriverManager\n",
    "from selenium import webdriver\n",
    "\n",
    "driver=webdriver.Chrome(ChromeDriverManager().install())\n",
    "driver.get(url='https://www.ppomppu.co.kr/zboard/zboard.php?id=ppomppu')\n",
    "\n",
    "driver.implicitly_wait(time_to_wait=10)\n",
    "\n"
   ]
  },
  {
   "cell_type": "code",
   "execution_count": 2,
   "metadata": {},
   "outputs": [
    {
     "name": "stdout",
     "output_type": "stream",
     "text": [
      "[올리브영] 그라펜 니트워터 포마드 50g (첫구매 990원/2500원)\n",
      "https://www.ppomppu.co.kr/zboard/view.php?id=ppomppu&page=1&divpage=78&no=462928\n",
      "[11번가] 슈팅배송 냉동 삼겹살 구이용, 1kg, 2개 (21,900원/무배)\n",
      "https://www.ppomppu.co.kr/zboard/view.php?id=ppomppu&page=1&divpage=78&no=462927\n",
      "[위메프] 와인픽스 와인아울렛 전지점 10/30만원 금액권 가정의달 기념 20% 할인 (80,000/무료)\n",
      "https://www.ppomppu.co.kr/zboard/view.php?id=ppomppu&page=1&divpage=78&no=462926\n",
      "[11번가] 슬라이딩리빙박스 중형 1+1(5,900원/무료)\n",
      "https://www.ppomppu.co.kr/zboard/view.php?id=ppomppu&page=1&divpage=78&no=462925\n",
      "[G마켓스마일클럽] 맥스봉 치즈 55g*15 (8,510원/스마일무료)\n",
      "https://www.ppomppu.co.kr/zboard/view.php?id=ppomppu&page=1&divpage=78&no=462924\n",
      "[티몬] 통영 자연산 비단가리비 1kg (11,900원/무료)\n",
      "https://www.ppomppu.co.kr/zboard/view.php?id=ppomppu&page=1&divpage=78&no=462923\n",
      "[네이버]액체세제 액츠퍼펙트 실내건조 3.2L X 4개(25,110원/무료)\n",
      "https://www.ppomppu.co.kr/zboard/view.php?id=ppomppu&page=1&divpage=78&no=462922\n",
      "[지마켓] 타피오카펄 16인분, 빨대증정있음 (22230원/무배)\n",
      "https://www.ppomppu.co.kr/zboard/view.php?id=ppomppu&page=1&divpage=78&no=462921\n",
      "[티몬] 잘풀리는집 화장지/키친타올/미용티슈 모음(9,990원~/무료)\n",
      "https://www.ppomppu.co.kr/zboard/view.php?id=ppomppu&page=1&divpage=78&no=462920\n",
      "[홈플러스] 포도먹고 자란 돼지 삼겹살(국내산) 100G/돼지고기 (1,890원/3,000원)\n",
      "https://www.ppomppu.co.kr/zboard/view.php?id=ppomppu&page=1&divpage=78&no=462919\n",
      "[11번가] 삼성전자 SL-C513 토너포함 컬러레이저프린터기 (101,920원/무배)\n",
      "https://www.ppomppu.co.kr/zboard/view.php?id=ppomppu&page=1&divpage=78&no=462918\n",
      "(끌올)[제철장터]함안 봄 하우스 수박 4kg(9,900/무배)\n",
      "https://www.ppomppu.co.kr/zboard/view.php?id=ppomppu&page=1&divpage=78&no=462917\n",
      "[옥션]김오곤의 동의비책 침향단 30환 x 4박스/침향25% 침향환 (64,900/무료)\n",
      "https://www.ppomppu.co.kr/zboard/view.php?id=ppomppu&page=1&divpage=78&no=462916\n",
      "[롯데온] 청정원 홍초 900ml 3개+석류 250ml (12,980원/2만이상무배)\n",
      "https://www.ppomppu.co.kr/zboard/view.php?id=ppomppu&page=1&divpage=78&no=462915\n",
      "[티몬] 마데카 메디패치습윤밴드+마데카솔 2개 (10,320원/무료배송)\n",
      "https://www.ppomppu.co.kr/zboard/view.php?id=ppomppu&page=1&divpage=78&no=462914\n",
      "[옥션] 스파크 대용량 가루세제 9.5Kg+세제스푼+리큐300mlx3개 (13,505원/무료)\n",
      "https://www.ppomppu.co.kr/zboard/view.php?id=ppomppu&page=1&divpage=78&no=462913\n",
      "[옥션] CJ 고메치킨 화끈불닭봉 355g 3개(11,360원/스클무료)\n",
      "https://www.ppomppu.co.kr/zboard/view.php?id=ppomppu&page=1&divpage=78&no=462912\n",
      "[티몬] 퍼실 고농축 섬유유연제 1.8L 3개 15,900원(무료배송)\n",
      "https://www.ppomppu.co.kr/zboard/view.php?id=ppomppu&page=1&divpage=78&no=462911\n",
      "[11번가] 드시모네 프라임2박스+데일리20포 추가 등 (165,600원)\n",
      "https://www.ppomppu.co.kr/zboard/view.php?id=ppomppu&page=1&divpage=78&no=462910\n",
      "[sk스토아] 아디다스 남성 드로즈 2장 (8,900원/무배)\n",
      "https://www.ppomppu.co.kr/zboard/view.php?id=ppomppu&page=1&divpage=78&no=462909\n",
      "[티몬][오늘의추천] 삼성전자 갤럭시 워치5 모음전 214,920원 ~ (4종 사은품)\n",
      "https://www.ppomppu.co.kr/zboard/view.php?id=pmarket&&no=284825\n",
      "[5월 3일 23시 ~ / 119만원 초특가] 삼성전자 갤럭시북3 프로 14인치 11번가 타임딜\n",
      "https://www.ppomppu.co.kr/zboard/view.php?id=pmarket&&no=284826\n",
      "[네이버]MSM2000 60정 1박스 가정의달 30%할인 optiMSM(10,900원/무료배송)\n",
      "https://www.ppomppu.co.kr/zboard/view.php?id=pmarket&&no=284821\n",
      "[위메프] 2023NEW LG그램 14ZD90R-GX56K [10%+3%+8만 할인 최저가] (135만대 / 무료배송)\n",
      "https://www.ppomppu.co.kr/zboard/view.php?id=pmarket&&no=284822\n",
      "[11번가 페스타] 갤럭시 S23시리즈 / A34 자급제 등 최대28% 대폭할인 특가진행중\n",
      "https://www.ppomppu.co.kr/zboard/view.php?id=pmarket&&no=284829\n",
      "[SSG 단독 최대혜택] 비오템으로 사랑을 선물하세요! (50,065원)\n",
      "https://www.ppomppu.co.kr/hotdeal/?no=26753650\n",
      "[홈플] 썸머기저귀, 분유 행사\n",
      "https://www.ppomppu.co.kr/zboard/view.php?id=social&no=36852\n",
      "서산흑마늘엑기스80ml*30포 12,750원\n",
      "https://www.ppomppu.co.kr/zboard/view.php?id=social&no=36851\n",
      "정관장 에브리타임 영혼 끌어모아서 사기\n",
      "https://www.ppomppu.co.kr/zboard/view.php?id=social&no=36850\n"
     ]
    }
   ],
   "source": [
    "from selenium.webdriver.common.by import By\n",
    "\n",
    "titles=driver.find_elements(By.CSS_SELECTOR,\"#revolution_main_table > tbody > tr > td:nth-child(3) > table > tbody > tr > td:nth-child(2) > div > a > font\")\n",
    "urls=driver.find_elements(By.CSS_SELECTOR,\"#revolution_main_table > tbody > tr > td:nth-child(3) > table > tbody > tr > td:nth-child(2) > div > a\")\n",
    "\n",
    "for i in range(len(titles)):\n",
    "    print(titles[i].text)\n",
    "    print(urls[i].get_attribute('href'))\n",
    "\n"
   ]
  },
  {
   "cell_type": "code",
   "execution_count": null,
   "metadata": {},
   "outputs": [],
   "source": []
  }
 ],
 "metadata": {
  "kernelspec": {
   "display_name": "base",
   "language": "python",
   "name": "python3"
  },
  "language_info": {
   "codemirror_mode": {
    "name": "ipython",
    "version": 3
   },
   "file_extension": ".py",
   "mimetype": "text/x-python",
   "name": "python",
   "nbconvert_exporter": "python",
   "pygments_lexer": "ipython3",
   "version": "3.10.9"
  },
  "orig_nbformat": 4
 },
 "nbformat": 4,
 "nbformat_minor": 2
}
