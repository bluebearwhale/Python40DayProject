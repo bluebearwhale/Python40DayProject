{
 "cells": [
  {
   "cell_type": "code",
   "execution_count": 3,
   "metadata": {},
   "outputs": [
    {
     "name": "stderr",
     "output_type": "stream",
     "text": [
      "C:\\Users\\dev\\AppData\\Local\\Temp\\ipykernel_24016\\881601192.py:4: DeprecationWarning: executable_path has been deprecated, please pass in a Service object\n",
      "  driver=webdriver.Chrome(ChromeDriverManager().install())\n"
     ]
    }
   ],
   "source": [
    "from webdriver_manager.chrome import ChromeDriverManager\n",
    "from selenium import webdriver\n",
    "\n",
    "driver=webdriver.Chrome(ChromeDriverManager().install())\n",
    "\n",
    "URL=\"https://www.google.co.kr/imghp\"\n",
    "driver.get(url=URL)\n",
    "\n",
    "driver.implicitly_wait(time_to_wait=10)\n"
   ]
  },
  {
   "cell_type": "code",
   "execution_count": 5,
   "metadata": {},
   "outputs": [],
   "source": [
    "from selenium.webdriver.common.keys import Keys\n",
    "from selenium.webdriver.common.by import By\n",
    "\n",
    "elem=driver.find_element(By.CSS_SELECTOR,\"#APjFqb\")\n",
    "\n",
    "elem.send_keys(\"바다\")\n",
    "elem.send_keys(Keys.RETURN)"
   ]
  },
  {
   "cell_type": "code",
   "execution_count": 7,
   "metadata": {},
   "outputs": [],
   "source": [
    "import time\n",
    "elem=driver.find_element(By.TAG_NAME,\"body\")\n",
    "\n",
    "for i in range(60):\n",
    "    elem.send_keys(Keys.PAGE_DOWN)\n",
    "    time.sleep(0.1)\n",
    "try:\n",
    "    driver.find_element(By.CSS_SELECTOR,\"#islmp > div > div > div > div > div.gBPM8 > div.qvfT1 > div.YstHxe > input\").click()\n",
    "    for i in range(60):\n",
    "        elem.send_keys(Keys.PAGE_DOWN)\n",
    "        time.sleep(0.1)\n",
    "except:\n",
    "    pass\n"
   ]
  },
  {
   "cell_type": "code",
   "execution_count": 16,
   "metadata": {},
   "outputs": [
    {
     "name": "stdout",
     "output_type": "stream",
     "text": [
      " 찾은 이미지 갯수:  728\n"
     ]
    }
   ],
   "source": [
    "links=[]\n",
    "images=driver.find_elements(By.CSS_SELECTOR,\"#islrg > div.islrc > div > div > a.wXeWr.islib.nfEiy > div.bRMDJf.islir > img\")\n",
    "for image in images:\n",
    "    if image.get_attribute('src') is not None:\n",
    "        links.append(image.get_attribute('src'))\n",
    "        \n",
    "#islrg > div.islrc > div:nth-child(60) > div:nth-child(74) > a.wXeWr.islib.nfEiy > div.bRMDJf.islir > img\n",
    "#islrg > div.islrc > div:nth-child(60) > div:nth-child(79) > a.wXeWr.islib.nfEiy > div.bRMDJf.islir > img\n",
    "print(' 찾은 이미지 갯수: ',len(links))\n",
    "\n"
   ]
  },
  {
   "cell_type": "code",
   "execution_count": 18,
   "metadata": {},
   "outputs": [
    {
     "name": "stdout",
     "output_type": "stream",
     "text": [
      "다운로드 완료하였습니다\n"
     ]
    }
   ],
   "source": [
    "import urllib.request\n",
    "for i,k in enumerate(links):\n",
    "    url=k\n",
    "    urllib.request.urlretrieve(url,\"C:\\\\Users\\\\dev\\\\Desktop\\\\파이썬 파일\\\\Python40DayProject\\\\19. google image cwaling\\\\image download\\\\\"+str(i)+\".jpg\")\n",
    "\n",
    "print('다운로드 완료하였습니다')"
   ]
  }
 ],
 "metadata": {
  "kernelspec": {
   "display_name": "base",
   "language": "python",
   "name": "python3"
  },
  "language_info": {
   "codemirror_mode": {
    "name": "ipython",
    "version": 3
   },
   "file_extension": ".py",
   "mimetype": "text/x-python",
   "name": "python",
   "nbconvert_exporter": "python",
   "pygments_lexer": "ipython3",
   "version": "3.10.9"
  },
  "orig_nbformat": 4
 },
 "nbformat": 4,
 "nbformat_minor": 2
}
