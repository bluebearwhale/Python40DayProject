{
 "cells": [
  {
   "cell_type": "code",
   "execution_count": 1,
   "metadata": {},
   "outputs": [
    {
     "name": "stderr",
     "output_type": "stream",
     "text": [
      "C:\\Users\\dev\\AppData\\Local\\Temp\\ipykernel_10732\\2470801254.py:4: DeprecationWarning: executable_path has been deprecated, please pass in a Service object\n",
      "  driver=webdriver.Chrome(ChromeDriverManager().install())\n"
     ]
    }
   ],
   "source": [
    "from webdriver_manager.chrome import ChromeDriverManager\n",
    "from selenium import webdriver\n",
    "\n",
    "driver=webdriver.Chrome(ChromeDriverManager().install())\n",
    "\n",
    "URL=\"https://www.google.co.kr\"\n",
    "driver.get(url=URL)\n",
    "\n",
    "driver.implicitly_wait(time_to_wait=10)"
   ]
  },
  {
   "cell_type": "code",
   "execution_count": 3,
   "metadata": {},
   "outputs": [
    {
     "name": "stdout",
     "output_type": "stream",
     "text": [
      "돈봉투 윤관석 이성만\n",
      "윤박\n",
      "임창정\n",
      "백윤식 출판금지 승소\n",
      "첼시\n",
      "에코프로\n",
      "호날두 스포츠 1위\n",
      "가디언즈 오브 갤럭시\n",
      "비투비\n",
      "박은빈\n"
     ]
    }
   ],
   "source": [
    "from selenium.webdriver.common.by import By\n",
    "URL=\"https://signal.bz/news\"\n",
    "driver.get(url=URL)\n",
    "\n",
    "driver.implicitly_wait(time_to_wait=10)\n",
    "\n",
    "naver_results=driver.find_elements(By.CSS_SELECTOR,\"#app > div > main > div > section > div > section > section:nth-child(2) > div:nth-child(2) > div > div > div > a > span.rank-text\")\n",
    "#app > div > main > div > section > div > section > section:nth-child(2) > div:nth-child(2) > div > div:nth-child(1) > div:nth-child(2) > a > span.rank-text\n",
    "#app > div > main > div > section > div > section > section:nth-child(2) > div:nth-child(2) > div > div:nth-child(2) > div:nth-child(4) > a\n",
    "naver_list=[]\n",
    "for naver_result in naver_results:\n",
    "    print(naver_result.text)\n",
    "    naver_list.append(naver_result.text)"
   ]
  },
  {
   "cell_type": "code",
   "execution_count": 7,
   "metadata": {},
   "outputs": [
    {
     "name": "stdout",
     "output_type": "stream",
     "text": [
      "범죄도시 포스터 공개\n",
      "필리핀서 다이빙 실종\n",
      "개점 일주일 만에\n",
      "임창정\n",
      "이웃 5명 살해\n"
     ]
    }
   ],
   "source": [
    "URL=\"https://nate.com\"\n",
    "driver.get(url=URL)\n",
    "\n",
    "driver.implicitly_wait(time_to_wait=10)\n",
    "\n",
    "nate_results=driver.find_elements(By.CSS_SELECTOR,\"#olLiveIssueKeyword > li > a > span.txt_rank\")\n",
    "#olLiveIssueKeyword > li:nth-child(1) > a\n",
    "#olLiveIssueKeyword > li:nth-child(3) > a\n",
    "#olLiveIssueKeyword > li:nth-child(2) > a > span.txt_rank\n",
    "#olLiveIssueKeyword > li:nth-child(1) > a > span.txt_rank\n",
    "#olLiveIssueKeyword > li:nth-child(2) > a > span.txt_rank\n",
    "nate_list=[]\n",
    "for nate_result in nate_results:\n",
    "    print(nate_result.text)\n",
    "    nate_list.append(nate_result.text)"
   ]
  },
  {
   "cell_type": "code",
   "execution_count": 13,
   "metadata": {},
   "outputs": [
    {
     "name": "stdout",
     "output_type": "stream",
     "text": [
      "임창정\n",
      "박은빈\n",
      "에코프로\n",
      "닥터 차정숙\n",
      "조용필\n",
      "서세원\n",
      "비투비\n",
      "손흥민\n",
      "이강인\n",
      "에스파\n",
      "네이버 ['돈봉투 윤관석 이성만', '윤박', '임창정', '백윤식 출판금지 승소', '첼시', '에코프로', '호날두 스포츠 1위', '가디언즈 오브 갤럭시', '비투비', '박은빈']\n",
      "네이트 ['범죄도시 포스터 공개', '필리핀서 다이빙 실종', '개점 일주일 만에', '임창정', '이웃 5명 살해']\n",
      "줌 ['임창정', '박은빈', '에코프로', '닥터 차정숙', '조용필', '서세원', '비투비', '손흥민', '이강인', '에스파']\n"
     ]
    }
   ],
   "source": [
    "import time\n",
    "URL=\"https://zum.com\"\n",
    "driver.get(url=URL)\n",
    "\n",
    "driver.implicitly_wait(time_to_wait=10)\n",
    "\n",
    "driver.find_element(By.CSS_SELECTOR,\"#app > div > header > div.search_bar > div > fieldset > div > input\").send_keys(\"아무거나 검색\")\n",
    "time.sleep(0.5)\n",
    "\n",
    "driver.find_element(By.CSS_SELECTOR,\"#app > div > header > div.search_bar > div > fieldset > div > button.search\").click()\n",
    "time.sleep(1)\n",
    "\n",
    "zoom_results=driver.find_elements(By.CSS_SELECTOR,\"#issue_wrap > ul > li > div > a:nth-child(1) > span.txt\")\n",
    "#app > div > header > div.search_bar > div > fieldset > div > input\n",
    "#app > div > header > div.search_bar > div > fieldset > div > button.search\n",
    "zoom_list=[]\n",
    "for zoom_result in zoom_results:\n",
    "    print(zoom_result.text)\n",
    "    zoom_list.append(zoom_result.text)\n",
    "\n",
    "print(\"네이버\",naver_list)\n",
    "print(\"네이트\",nate_list)\n",
    "print(\"줌\",zoom_list)\n"
   ]
  }
 ],
 "metadata": {
  "kernelspec": {
   "display_name": "base",
   "language": "python",
   "name": "python3"
  },
  "language_info": {
   "codemirror_mode": {
    "name": "ipython",
    "version": 3
   },
   "file_extension": ".py",
   "mimetype": "text/x-python",
   "name": "python",
   "nbconvert_exporter": "python",
   "pygments_lexer": "ipython3",
   "version": "3.10.9"
  },
  "orig_nbformat": 4
 },
 "nbformat": 4,
 "nbformat_minor": 2
}
